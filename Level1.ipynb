{
 "cells": [
  {
   "cell_type": "code",
   "execution_count": null,
   "id": "36d7dffd",
   "metadata": {},
   "outputs": [],
   "source": [
    "# Q 1: Accept a number from the user and find the factorial of the number using a function with a parameter and return type.\n"
   ]
  }
 ],
 "metadata": {
  "language_info": {
   "name": "python"
  }
 },
 "nbformat": 4,
 "nbformat_minor": 5
}
