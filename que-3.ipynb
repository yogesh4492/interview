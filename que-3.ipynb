{
 "cells": [
  {
   "cell_type": "code",
   "execution_count": 2,
   "id": "865acb5a",
   "metadata": {},
   "outputs": [
    {
     "name": "stdout",
     "output_type": "stream",
     "text": [
      "[1, 2, 3, 4, 5]\n",
      "6\n"
     ]
    }
   ],
   "source": [
    "# Q 3: Write a function that accepts a list of numbers and returns the sum of all even numbers in the list.\n",
    "\n",
    "list=[]\n",
    "def accept_list(list):\n",
    "    num=int(input(\"Enter row of size= \"))\n",
    "    sum=0\n",
    "    for i in range(num):\n",
    "        num1=int(input(\"Enter element\"))\n",
    "        list.append(num1)\n",
    "        if num1%2==0:\n",
    "            sum+=num1\n",
    "    print(list)\n",
    "    return sum\n",
    "print(accept_list(list))    "
   ]
  },
  {
   "cell_type": "code",
   "execution_count": null,
   "id": "4410fffa",
   "metadata": {},
   "outputs": [],
   "source": []
  }
 ],
 "metadata": {
  "kernelspec": {
   "display_name": "Python 3",
   "language": "python",
   "name": "python3"
  },
  "language_info": {
   "codemirror_mode": {
    "name": "ipython",
    "version": 3
   },
   "file_extension": ".py",
   "mimetype": "text/x-python",
   "name": "python",
   "nbconvert_exporter": "python",
   "pygments_lexer": "ipython3",
   "version": "3.12.4"
  }
 },
 "nbformat": 4,
 "nbformat_minor": 5
}
