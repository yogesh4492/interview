{
 "cells": [
  {
   "cell_type": "code",
   "execution_count": 4,
   "id": "e20ce52b",
   "metadata": {},
   "outputs": [
    {
     "name": "stdout",
     "output_type": "stream",
     "text": [
      "4\n",
      "Even Number \n"
     ]
    }
   ],
   "source": [
    "# 1. **Write a Python program to check whether a given number is even or odd.**\n",
    "#    - Input: `4`\n",
    "# #    - Output: `Even`\n",
    "\n",
    "num=int(input(\"Enter Number= \"))\n",
    "print(num)\n",
    "if num%2 == 0:\n",
    "    print(\"Even Number \")\n",
    "else:\n",
    "    print(\"Odd Number\")"
   ]
  },
  {
   "cell_type": "code",
   "execution_count": 6,
   "id": "b56fe9df",
   "metadata": {},
   "outputs": [
    {
     "name": "stdout",
     "output_type": "stream",
     "text": [
      "num= -5\n",
      "Negative Number\n"
     ]
    }
   ],
   "source": [
    "# 2. **Write a Python function that takes an integer as input and prints whether the number is positive, negative, or zero.**\n",
    "#    - Input: `-5`\n",
    "#    - Output: `Negative`\n",
    "\n",
    "num=int(input(\"Enter Number= \"))\n",
    "print(f\"num= {num}\")\n",
    "if num<0:\n",
    "    print(\"Negative Number\")\n",
    "else:\n",
    "    print(\"Positive Number\")"
   ]
  },
  {
   "cell_type": "code",
   "execution_count": 7,
   "id": "1baebb2d",
   "metadata": {},
   "outputs": [
    {
     "name": "stdout",
     "output_type": "stream",
     "text": [
      "20 is largest number\n"
     ]
    }
   ],
   "source": [
    "# 3. **Write a Python program to find the largest of three numbers using `if`, `elif`, and `else` statements.**\n",
    "#    - Input: `a = 10, b = 20, c = 15`\n",
    "#    - Output: `20`\n",
    "\n",
    "a=10\n",
    "b=20\n",
    "c=15\n",
    "if a>b and a>c:\n",
    "    print(f\"{a} is largest number\")\n",
    "elif b>a and b>c:\n",
    "    print(f\"{b} is largest number\")\n",
    "else:\n",
    "    print(f\"{c} is largest Number\")"
   ]
  },
  {
   "cell_type": "code",
   "execution_count": 9,
   "id": "82a9184e",
   "metadata": {},
   "outputs": [
    {
     "name": "stdout",
     "output_type": "stream",
     "text": [
      "Leap Year\n"
     ]
    }
   ],
   "source": [
    "# 4. **Write a Python program that checks if a given year is a leap year.**\n",
    "#    - Input: `2020`\n",
    "#    - Output: `Leap Year`\n",
    "\n",
    "year=2020\n",
    "if year%400==0 and year%100!=0:\n",
    "    print(\" Leap Year\")\n",
    "elif year%4==0:\n",
    "    print(\"Leap Year\")\n",
    "else:\n",
    "    print(\"Not a Leap Year\")"
   ]
  },
  {
   "cell_type": "code",
   "execution_count": 10,
   "id": "b92b6bf8",
   "metadata": {},
   "outputs": [
    {
     "name": "stdout",
     "output_type": "stream",
     "text": [
      "Number is divisible by both\n"
     ]
    }
   ],
   "source": [
    "# 5. **Write a Python program to check if a given number is divisible by both 5 and 10.**\n",
    "#    - Input: `50`\n",
    "#    - Output: `Divisible by both 5 and 10`\n",
    "\n",
    "num=50\n",
    "if num%5==0 and num%10==0:\n",
    "    print(\"Number is divisible by both\")\n",
    "else:\n",
    "    print(\"Number is Not Divisible by Both\")"
   ]
  },
  {
   "cell_type": "code",
   "execution_count": null,
   "id": "3d375971",
   "metadata": {},
   "outputs": [],
   "source": [
    "# 6. **Write a Python function that checks whether a given string is a palindrome.**\n",
    "#    - Input: `'madam'`\n",
    "#    - Output: `Palindrome`\n",
    "\n"
   ]
  }
 ],
 "metadata": {
  "kernelspec": {
   "display_name": "Python 3",
   "language": "python",
   "name": "python3"
  },
  "language_info": {
   "codemirror_mode": {
    "name": "ipython",
    "version": 3
   },
   "file_extension": ".py",
   "mimetype": "text/x-python",
   "name": "python",
   "nbconvert_exporter": "python",
   "pygments_lexer": "ipython3",
   "version": "3.12.4"
  }
 },
 "nbformat": 4,
 "nbformat_minor": 5
}
