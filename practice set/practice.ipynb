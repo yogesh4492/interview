{
 "cells": [
  {
   "cell_type": "code",
   "execution_count": 4,
   "id": "e20ce52b",
   "metadata": {},
   "outputs": [
    {
     "name": "stdout",
     "output_type": "stream",
     "text": [
      "4\n",
      "Even Number \n"
     ]
    }
   ],
   "source": [
    "# 1. **Write a Python program to check whether a given number is even or odd.**\n",
    "#    - Input: `4`\n",
    "# #    - Output: `Even`\n",
    "\n",
    "num=int(input(\"Enter Number= \"))\n",
    "print(num)\n",
    "if num%2 == 0:\n",
    "    print(\"Even Number \")\n",
    "else:\n",
    "    print(\"Odd Number\")"
   ]
  },
  {
   "cell_type": "code",
   "execution_count": 6,
   "id": "b56fe9df",
   "metadata": {},
   "outputs": [
    {
     "name": "stdout",
     "output_type": "stream",
     "text": [
      "num= -5\n",
      "Negative Number\n"
     ]
    }
   ],
   "source": [
    "# 2. **Write a Python function that takes an integer as input and prints whether the number is positive, negative, or zero.**\n",
    "#    - Input: `-5`\n",
    "#    - Output: `Negative`\n",
    "\n",
    "num=int(input(\"Enter Number= \"))\n",
    "print(f\"num= {num}\")\n",
    "if num<0:\n",
    "    print(\"Negative Number\")\n",
    "else:\n",
    "    print(\"Positive Number\")"
   ]
  },
  {
   "cell_type": "code",
   "execution_count": 7,
   "id": "1baebb2d",
   "metadata": {},
   "outputs": [
    {
     "name": "stdout",
     "output_type": "stream",
     "text": [
      "20 is largest number\n"
     ]
    }
   ],
   "source": [
    "# 3. **Write a Python program to find the largest of three numbers using `if`, `elif`, and `else` statements.**\n",
    "#    - Input: `a = 10, b = 20, c = 15`\n",
    "#    - Output: `20`\n",
    "\n",
    "a=10\n",
    "b=20\n",
    "c=15\n",
    "if a>b and a>c:\n",
    "    print(f\"{a} is largest number\")\n",
    "elif b>a and b>c:\n",
    "    print(f\"{b} is largest number\")\n",
    "else:\n",
    "    print(f\"{c} is largest Number\")"
   ]
  },
  {
   "cell_type": "code",
   "execution_count": 9,
   "id": "82a9184e",
   "metadata": {},
   "outputs": [
    {
     "name": "stdout",
     "output_type": "stream",
     "text": [
      "Leap Year\n"
     ]
    }
   ],
   "source": [
    "# 4. **Write a Python program that checks if a given year is a leap year.**\n",
    "#    - Input: `2020`\n",
    "#    - Output: `Leap Year`\n",
    "\n",
    "year=2020\n",
    "if year%400==0 and year%100!=0:\n",
    "    print(\" Leap Year\")\n",
    "elif year%4==0:\n",
    "    print(\"Leap Year\")\n",
    "else:\n",
    "    print(\"Not a Leap Year\")"
   ]
  },
  {
   "cell_type": "code",
   "execution_count": 10,
   "id": "b92b6bf8",
   "metadata": {},
   "outputs": [
    {
     "name": "stdout",
     "output_type": "stream",
     "text": [
      "Number is divisible by both\n"
     ]
    }
   ],
   "source": [
    "# 5. **Write a Python program to check if a given number is divisible by both 5 and 10.**\n",
    "#    - Input: `50`\n",
    "#    - Output: `Divisible by both 5 and 10`\n",
    "\n",
    "num=50\n",
    "if num%5==0 and num%10==0:\n",
    "    print(\"Number is divisible by both\")\n",
    "else:\n",
    "    print(\"Number is Not Divisible by Both\")"
   ]
  },
  {
   "cell_type": "code",
   "execution_count": 12,
   "id": "3d375971",
   "metadata": {},
   "outputs": [
    {
     "name": "stdout",
     "output_type": "stream",
     "text": [
      "Palindrome string\n"
     ]
    }
   ],
   "source": [
    "# 6. **Write a Python function that checks whether a given string is a palindrome.**\n",
    "#    - Input: `'madam'`\n",
    "#    - Output: `Palindrome`\n",
    "\n",
    "string=\"madam\"\n",
    "rev=\"\"\n",
    "\n",
    "for i in string:\n",
    "    rev=i+rev\n",
    "if rev==string:\n",
    "    print(\"Palindrome string\")\n",
    "else:\n",
    "    print(\"Not Palindrome\")\n",
    "    "
   ]
  },
  {
   "cell_type": "code",
   "execution_count": 19,
   "id": "0526a52c",
   "metadata": {},
   "outputs": [
    {
     "name": "stdout",
     "output_type": "stream",
     "text": [
      "Not Palindrome\n"
     ]
    }
   ],
   "source": [
    "\n",
    "def palindrome(string):\n",
    "    rev=\"\"\n",
    "    for i in string:\n",
    "        rev=i+rev\n",
    "    if rev==string:\n",
    "       print(\"Palindrome string\")\n",
    "    else:\n",
    "       print(\"Not Palindrome\")\n",
    "\n",
    "string=\"hello\"\n",
    "palindrome(string)\n",
    "\n"
   ]
  },
  {
   "cell_type": "code",
   "execution_count": 24,
   "id": "ee86d433",
   "metadata": {},
   "outputs": [
    {
     "name": "stdout",
     "output_type": "stream",
     "text": [
      "grade A\n"
     ]
    }
   ],
   "source": [
    "# 7. **Write a Python program to find the grade of a student based on marks using `if`-`elif`-`else`.**\n",
    "#    - Input: `marks = 85`\n",
    "#    - Output: `Grade A`\n",
    "marks=85\n",
    "if marks>80:\n",
    "    print(\"grade A\")\n",
    "elif marks<80 and marks>65:\n",
    "    print(\"Grade B\")\n",
    "elif marks<=65 and marks>50:\n",
    "    print(\"Grade C\")\n",
    "elif marks>=35:\n",
    "    print(\"Garde is Pass\")\n",
    "else:\n",
    "    print(\"Fail \")\n"
   ]
  },
  {
   "cell_type": "code",
   "execution_count": 25,
   "id": "32d3a3fa",
   "metadata": {},
   "outputs": [
    {
     "name": "stdout",
     "output_type": "stream",
     "text": [
      "Number in Range\n"
     ]
    }
   ],
   "source": [
    "# 8. **Write a Python program that checks if a number is within a specified range (inclusive).**\n",
    "#    - Input: `5`, `min=1`, `max=10`\n",
    "#    - Output: `In range`\n",
    "\n",
    "num=5\n",
    "if num>1 and num<10:\n",
    "    print(\"Number in Range\")\n",
    "else:\n",
    "    print(\"Number is Not In Range\")"
   ]
  },
  {
   "cell_type": "code",
   "execution_count": null,
   "id": "b4643e79",
   "metadata": {},
   "outputs": [
    {
     "name": "stdout",
     "output_type": "stream",
     "text": [
      "Vowel\n"
     ]
    }
   ],
   "source": [
    "# 9. **Write a Python program to check if a character is a vowel or a consonant.**\n",
    "#    - Input: `'a'`\n",
    "#    - Output: `Vowel`\n",
    "\n",
    "# ch='a'\n",
    "# ch=ch.lower()\n",
    "# if ch.isalpha():\n",
    "#     if ch=='a' or ch=='e' or ch=='i' or ch=='o' or ch=='u':\n",
    "#         print(\"Vowel\")\n",
    "#     else:\n",
    "#         print(\" Consonant\")\n",
    "\n",
    "ch='a'\n",
    "if ch in 'aeiouAEIOU':\n",
    "    print(\"vowel\")\n",
    "else:\n",
    "    print(\"consonant\")\n"
   ]
  },
  {
   "cell_type": "code",
   "execution_count": 29,
   "id": "4e681227",
   "metadata": {},
   "outputs": [
    {
     "name": "stdout",
     "output_type": "stream",
     "text": [
      "Prime number\n"
     ]
    }
   ],
   "source": [
    "# 10. **Write a Python program to print whether a number is prime or not.**\n",
    "#     - Input: `7`\n",
    "#     - Output: `Prime`\n",
    "\n",
    "num=7\n",
    "prime=True\n",
    "for i in range(2,num):\n",
    "    if num%i==0:\n",
    "        prime=False\n",
    "if prime:\n",
    "    print(\"Prime number\")\n",
    "else:\n",
    "    print(\"Not A prime\")\n"
   ]
  },
  {
   "cell_type": "code",
   "execution_count": 30,
   "id": "ea1129a6",
   "metadata": {},
   "outputs": [
    {
     "name": "stdout",
     "output_type": "stream",
     "text": [
      "2\n",
      "4\n",
      "6\n",
      "8\n",
      "10\n",
      "12\n",
      "14\n",
      "16\n",
      "18\n",
      "20\n",
      "22\n",
      "24\n",
      "26\n",
      "28\n",
      "30\n",
      "32\n",
      "34\n",
      "36\n",
      "38\n",
      "40\n",
      "42\n",
      "44\n",
      "46\n",
      "48\n",
      "50\n",
      "52\n",
      "54\n",
      "56\n",
      "58\n",
      "60\n",
      "62\n",
      "64\n",
      "66\n",
      "68\n",
      "70\n",
      "72\n",
      "74\n",
      "76\n",
      "78\n",
      "80\n",
      "82\n",
      "84\n",
      "86\n",
      "88\n",
      "90\n",
      "92\n",
      "94\n",
      "96\n",
      "98\n",
      "100\n"
     ]
    }
   ],
   "source": [
    "# 11. **Write a Python program to print all the even numbers from 1 to 100 using a `for` loop.**\n",
    "#     - Output: `2 4 6 8 ... 100`\n",
    "\n",
    "for i in range(1,101):\n",
    "    if i%2==0:\n",
    "        print(i)"
   ]
  },
  {
   "cell_type": "code",
   "execution_count": 31,
   "id": "5755166b",
   "metadata": {},
   "outputs": [
    {
     "name": "stdout",
     "output_type": "stream",
     "text": [
      "15\n"
     ]
    }
   ],
   "source": [
    "# 12. **Write a Python program that finds the sum of all numbers from 1 to `n` (inclusive), where `n` is given by the user.**\n",
    "#     - Input: `n = 5`\n",
    "#     - Output: `15` (since 1 + 2 + 3 + 4 + 5 = 15)\n",
    "\n",
    "n=5\n",
    "sum=0\n",
    "for i in range(1,n+1):\n",
    "    sum+=i\n",
    "print(sum)"
   ]
  },
  {
   "cell_type": "code",
   "execution_count": 32,
   "id": "43754d8d",
   "metadata": {},
   "outputs": [
    {
     "name": "stdout",
     "output_type": "stream",
     "text": [
      " 3 * 1 = 3\n",
      " 3 * 2 = 6\n",
      " 3 * 3 = 9\n",
      " 3 * 4 = 12\n",
      " 3 * 5 = 15\n",
      " 3 * 6 = 18\n",
      " 3 * 7 = 21\n",
      " 3 * 8 = 24\n",
      " 3 * 9 = 27\n",
      " 3 * 10 = 30\n"
     ]
    }
   ],
   "source": [
    "# 13. **Write a Python program to print the multiplication table of a given number using a `for` loop.**\n",
    "#     - Input: `number = 3`\n",
    "#     - Output:\n",
    "#       ```\n",
    "#       3 x 1 = 3\n",
    "#       3 x 2 = 6\n",
    "#       3 x 3 = 9\n",
    "#       ...\n",
    "#       ```\n",
    "\n",
    "number=3\n",
    "for i in range(1,11):\n",
    "    print(f\" {number} * {i} = {number*i}\")"
   ]
  },
  {
   "cell_type": "code",
   "execution_count": 34,
   "id": "ab7f9947",
   "metadata": {},
   "outputs": [
    {
     "name": "stdout",
     "output_type": "stream",
     "text": [
      "120\n"
     ]
    }
   ],
   "source": [
    "# 14. **Write a Python program to print the factorial of a given number using a `while` loop.**\n",
    "#     - Input: `5`\n",
    "#     - Output: `120` (since 5! = 5 * 4 * 3 * 2 * 1)\n",
    "number=5\n",
    "i=1\n",
    "fact=1\n",
    "while number!=0:\n",
    "    fact=fact*i\n",
    "    i+=1\n",
    "    number-=1\n",
    "print(fact)"
   ]
  },
  {
   "cell_type": "code",
   "execution_count": 36,
   "id": "baf5cde9",
   "metadata": {},
   "outputs": [
    {
     "name": "stdout",
     "output_type": "stream",
     "text": [
      "0 1 1 2 3 5 8 13 21 34 55 89 "
     ]
    }
   ],
   "source": [
    "# 15. **Write a Python program to print the Fibonacci sequence up to a given number `n` using a `while` loop.**\n",
    "#     - Input: `n = 10`\n",
    "#     - Output: `0 1 1 2 3 5 8`\n",
    "\n",
    "n1=0\n",
    "n2=1\n",
    "num=10\n",
    "print(f\"{n1} {n2}\",end=\" \")\n",
    "while num!=0:\n",
    "    n3=n1+n2\n",
    "    print(n3,end=\" \")\n",
    "    n1=n2\n",
    "    n2=n3\n",
    "    num-=1\n"
   ]
  },
  {
   "cell_type": "code",
   "execution_count": null,
   "id": "ca633c59",
   "metadata": {},
   "outputs": [
    {
     "name": "stdout",
     "output_type": "stream",
     "text": [
      "2\n",
      "3\n",
      "5\n",
      "7\n",
      "11\n",
      "13\n",
      "17\n",
      "19\n"
     ]
    }
   ],
   "source": [
    "# 16. **Write a Python program that prints all the prime numbers from 1 to `n` using a `for` loop.**\n",
    "#     - Input: `n = 20`\n",
    "#     - Output: `2 3 5 7 11 13 17 19`\n",
    "\n",
    "n=20\n",
    "for i in range(2,n+1):\n",
    "    prime=True\n",
    "    for j in range(2,i):\n",
    "        if i%j==0:\n",
    "            prime=False\n",
    "    if prime:\n",
    "        print(i,end=\" \")\n",
    "    \n"
   ]
  },
  {
   "cell_type": "code",
   "execution_count": 46,
   "id": "1fc1305a",
   "metadata": {},
   "outputs": [
    {
     "name": "stdout",
     "output_type": "stream",
     "text": [
      "3\n"
     ]
    }
   ],
   "source": [
    "# 17. **Write a Python program that counts the number of vowels in a string using a `for` loop.**\n",
    "#     - Input: `'hello world'`\n",
    "#     - Output: `3` (the vowels are 'e', 'o', 'o')\n",
    "\n",
    "string='hello world'\n",
    "length=len(string)\n",
    "count=0\n",
    "for i in string:\n",
    "    if i in 'aeiouAEIOU':\n",
    "        count+=1\n",
    "print(count)"
   ]
  },
  {
   "cell_type": "code",
   "execution_count": 58,
   "id": "3b88080d",
   "metadata": {},
   "outputs": [
    {
     "name": "stdout",
     "output_type": "stream",
     "text": [
      "14\n"
     ]
    }
   ],
   "source": [
    "# 18. **Write a Python program to find the greatest common divisor (GCD) of two numbers using a `while` loop.**\n",
    "#     - Input: `a = 56`, `b = 98`\n",
    "#     - Output: `14`\n",
    "# a=56\n",
    "# b=98\n",
    "# while b!=0:\n",
    "#     a,b=b,a%b\n",
    "# print(a)\n",
    "\n",
    "a=56\n",
    "b=98\n",
    "while b!=0:\n",
    "    c=b\n",
    "    b=a%b\n",
    "    a=c\n",
    "print(a)\n",
    "\n",
    "\n",
    "  "
   ]
  },
  {
   "cell_type": "code",
   "execution_count": 55,
   "id": "06f81272",
   "metadata": {},
   "outputs": [
    {
     "name": "stdout",
     "output_type": "stream",
     "text": [
      "5 4 3 2 1 "
     ]
    }
   ],
   "source": [
    "# 19. **Write a Python program to print the first `n` natural numbers in reverse order using a `while` loop.**\n",
    "#     - Input: `n = 5`\n",
    "#     - Output: `5 4 3 2 1`\n",
    "n=5\n",
    "while n!=0:\n",
    "    print(n,end=\" \")\n",
    "    n-=1\n"
   ]
  },
  {
   "cell_type": "code",
   "execution_count": 57,
   "id": "565d2a2e",
   "metadata": {},
   "outputs": [
    {
     "name": "stdout",
     "output_type": "stream",
     "text": [
      "2 4 6 8 "
     ]
    }
   ],
   "source": [
    "# 20. **Write a Python program that takes a list of numbers and prints each number doubled using a `for` loop.**\n",
    "#     - Input: `[1, 2, 3, 4]`\n",
    "#     - Output: `2 4 6 8`\n",
    "\n",
    "list=[1,2,3,4]\n",
    "for i in list:\n",
    "     print(i+i,end=\" \")"
   ]
  },
  {
   "cell_type": "code",
   "execution_count": 59,
   "id": "80e024ee",
   "metadata": {},
   "outputs": [
    {
     "name": "stdout",
     "output_type": "stream",
     "text": [
      "6\n",
      "28\n",
      "496\n"
     ]
    }
   ],
   "source": [
    "#  21 Write a Python program to find all the perfect numbers between 1 and 1000.**\n",
    "#     - A perfect number is a number that is equal to the sum of its proper divisors.\n",
    "#     - Output: `6 28 496`\n",
    "\n",
    "for i in range(1,1001):\n",
    "    sum=0\n",
    "    for j in range(1,i//2+1):\n",
    "        if i%j==0:\n",
    "            sum+=j\n",
    "    if i==sum:\n",
    "        print(i)\n",
    "\n"
   ]
  },
  {
   "cell_type": "code",
   "execution_count": 60,
   "id": "63f4d71c",
   "metadata": {},
   "outputs": [
    {
     "name": "stdout",
     "output_type": "stream",
     "text": [
      "6\n"
     ]
    }
   ],
   "source": [
    "# 22. **Write a Python program to calculate the sum of digits of a number using a `while` loop.**\n",
    "#     - Input: `n = 123`\n",
    "#     - Output: `6` (1 + 2 + 3 = 6)\n",
    "\n",
    "n=123\n",
    "sum=0\n",
    "while n!=0:\n",
    "    rem=n%10\n",
    "    sum+=rem\n",
    "    n//=10\n",
    "print(sum)\n"
   ]
  },
  {
   "cell_type": "code",
   "execution_count": 63,
   "id": "6a5ff43d",
   "metadata": {},
   "outputs": [
    {
     "name": "stdout",
     "output_type": "stream",
     "text": [
      "165\n"
     ]
    }
   ],
   "source": [
    "# 23. **Write a Python program to find the sum of squares of all odd numbers between 1 and `n` using a `for` loop.**\n",
    "#     - Input: `n = 10`\n",
    "#     - Output: `1 + 9 + 25 + 49 + 81 = 165`\n",
    "sum=0\n",
    "for i in range(1,10):\n",
    "    if i%2!=0:\n",
    "      sum+=i**2\n",
    "print(sum)"
   ]
  },
  {
   "cell_type": "code",
   "execution_count": 64,
   "id": "4a7a097a",
   "metadata": {},
   "outputs": [],
   "source": [
    "# 24. **Write a Python program to create a dictionary where the keys are numbers from 1 to `n`, and the values are their squares.**\n",
    "#     - Input: `n = 5`\n",
    "#     - Output: `{1: 1, 2: 4, 3: 9, 4: 16, 5: 25}`\n",
    "\n",
    " "
   ]
  },
  {
   "cell_type": "code",
   "execution_count": 65,
   "id": "ca64f358",
   "metadata": {},
   "outputs": [
    {
     "name": "stdout",
     "output_type": "stream",
     "text": [
      "[1, 2, 3, 4]\n"
     ]
    }
   ],
   "source": [
    "# 25. **Write a Python program to remove all duplicates from a list using a `for` loop.**\n",
    "#     - Input: `[1, 2, 2, 3, 4, 4]`\n",
    "#     - Output: `[1, 2, 3, 4]`\n",
    "\n",
    "list=[1,2,2,3,4,4]\n",
    "list1=[]\n",
    "for i in list:\n",
    "    if i not in list1:\n",
    "        list1.append(i)\n",
    "print(list1)"
   ]
  },
  {
   "cell_type": "code",
   "execution_count": 4,
   "id": "6fa8302c",
   "metadata": {},
   "outputs": [
    {
     "name": "stdout",
     "output_type": "stream",
     "text": [
      "4\n",
      "true\n"
     ]
    }
   ],
   "source": [
    "#26. **Write a Python program to check if a number is a power of 2 using a `while` loop.**\n",
    "    # - Input: `n = 16`\n",
    "    # - Output: `True`\n",
    "\n",
    "n=16\n",
    "n1=n\n",
    "copy=1\n",
    "while n!=0:\n",
    "    if copy**2==n1:\n",
    "        print(copy)\n",
    "        print(\"true\")\n",
    "        break\n",
    "    copy+=1\n",
    "    n-=1\n",
    "    \n"
   ]
  },
  {
   "cell_type": "code",
   "execution_count": 13,
   "id": "253c7026",
   "metadata": {},
   "outputs": [
    {
     "name": "stdout",
     "output_type": "stream",
     "text": [
      "8\n"
     ]
    }
   ],
   "source": [
    "# 27. **Write a Python program to print the `n`th Fibonacci number using a `for` loop.**\n",
    "#     - Input: `n = 6`\n",
    "#     - Output: `8`\n",
    "\n",
    "n=6\n",
    "a=0\n",
    "b=1\n",
    "for i in range(2,n+1):\n",
    "    c=a+b\n",
    "    a=b\n",
    "    b=c\n",
    "print(c)\n"
   ]
  },
  {
   "cell_type": "code",
   "execution_count": 14,
   "id": "89235fd8",
   "metadata": {},
   "outputs": [
    {
     "name": "stdout",
     "output_type": "stream",
     "text": [
      "2\n"
     ]
    }
   ],
   "source": [
    "# 28. **Write a Python program to count the occurrences of a specific character in a string using a `for` loop.**\n",
    "#     - Input: `'hello world'`, character: `'o'`\n",
    "#     - Output: `2`\n",
    "\n",
    "string=input(\"Enter String= \")\n",
    "count=0\n",
    "for i in string:\n",
    "    if 'o' in i:\n",
    "        count+=1\n",
    "print(count)"
   ]
  },
  {
   "cell_type": "code",
   "execution_count": 15,
   "id": "1721afb7",
   "metadata": {},
   "outputs": [
    {
     "name": "stdout",
     "output_type": "stream",
     "text": [
      "2\n"
     ]
    }
   ],
   "source": [
    "string=input(\"Enter String= \")\n",
    "count=0\n",
    "for i in string:\n",
    "    if i=='o':\n",
    "        count+=1\n",
    "print(count)"
   ]
  },
  {
   "cell_type": "code",
   "execution_count": 18,
   "id": "20f4ffe8",
   "metadata": {},
   "outputs": [
    {
     "name": "stdout",
     "output_type": "stream",
     "text": [
      "1 2 3 \n",
      "2 4 6 \n",
      "3 6 9 \n"
     ]
    }
   ],
   "source": [
    "# 29. **Write a Python program that prints a multiplication table in the form of a matrix for numbers 1 through `n`.**\n",
    "#     - Input: `n = 3`\n",
    "#     - Output:\n",
    "#       ```\n",
    "#       1 2 3\n",
    "#       2 4 6\n",
    "#       3 6 9\n",
    "\n",
    "n=int(input(\"Enter n= \"))\n",
    "for i in range(1,n+1):\n",
    "    for j in range(1,n+1):\n",
    "        print(i*j,end=\" \")\n",
    "    print()\n"
   ]
  },
  {
   "cell_type": "code",
   "execution_count": 20,
   "id": "10a343a2",
   "metadata": {},
   "outputs": [
    {
     "name": "stdout",
     "output_type": "stream",
     "text": [
      "25\n"
     ]
    }
   ],
   "source": [
    "# 30. **Write a Python program that finds the sum of the first `n` odd numbers using a `while` loop.**\n",
    "#     - Input: `n = 5`\n",
    "#     - Output: `25` (1 + 3 + 5 + 7 + 9 = 25)\n",
    "n=int(input(\"Enter N= \"))\n",
    "i=1\n",
    "sum=0\n",
    "while n!=0:\n",
    "     sum+=i\n",
    "     i+=2\n",
    "     n-=1\n",
    "print(sum)"
   ]
  },
  {
   "cell_type": "code",
   "execution_count": 24,
   "id": "70eb99e7",
   "metadata": {},
   "outputs": [
    {
     "name": "stdout",
     "output_type": "stream",
     "text": [
      "Num is palindrome\n"
     ]
    }
   ],
   "source": [
    "# 31. **Write a Python program that checks if a number is a palindrome using a `for` loop.**\n",
    "#     - Input: `121`\n",
    "#     - Output: `Palindrome`\n",
    "\n",
    "num=int(input(\"Enter Number= \"))\n",
    "rev=0\n",
    "cpy=num\n",
    "digits = len(str(num))\n",
    "for i in range(digits):\n",
    "    rem=num%10\n",
    "    rev=(rev*10)+rem\n",
    "    num//=10\n",
    "if rev==cpy:\n",
    "    print(\"Num is palindrome\")\n",
    "else:\n",
    "    print(\"Num is Not a palindrome\")\n",
    "\n"
   ]
  },
  {
   "cell_type": "code",
   "execution_count": 4,
   "id": "d2b98a2c",
   "metadata": {},
   "outputs": [
    {
     "name": "stdout",
     "output_type": "stream",
     "text": [
      "* \n",
      "* * \n",
      "* * * \n",
      "* * * * \n",
      "* * * * * \n"
     ]
    }
   ],
   "source": [
    "# **Write a Python program to create a pattern of stars (`*`) in the shape of a right-angled triangle using a `for` loop.**\n",
    "#     - Output:\n",
    "#       ```\n",
    "#       *\n",
    "#       **\n",
    "#       ***\n",
    "#       ****\n",
    "#       ```\n",
    "\n",
    "num=int(input(\"Enter Row= \"))\n",
    "for i in range(1,num+1):\n",
    "    for j in range(1,i+1):\n",
    "        print(\"* \",end=\"\")\n",
    "    print()"
   ]
  },
  {
   "cell_type": "code",
   "execution_count": 11,
   "id": "29ea4647",
   "metadata": {},
   "outputs": [
    {
     "name": "stdout",
     "output_type": "stream",
     "text": [
      "[0, 1, 1, 2, 3, 5]\n"
     ]
    }
   ],
   "source": [
    "# 33. **Write a Python program to generate a list of the first `n` Fibonacci numbers using a `while` loop.**\n",
    "#     - Input: `n = 6`\n",
    "#     - Output: `[0, 1, 1, 2, 3, 5]`\n",
    "\n",
    "n=int(input(\"Enter Row= \"))\n",
    "a=0\n",
    "b=1\n",
    "lst=[]\n",
    "while n!=0:\n",
    "    c=a+b\n",
    "    if a==0:\n",
    "        lst.append(a)\n",
    "    elif b==1:\n",
    "        lst.append(b)\n",
    "    else:\n",
    "        lst.append(a)\n",
    "    a,b=b,a+b\n",
    "    n-=1\n",
    "print(lst)\n"
   ]
  },
  {
   "cell_type": "code",
   "execution_count": 12,
   "id": "bbfda36c",
   "metadata": {},
   "outputs": [
    {
     "name": "stdout",
     "output_type": "stream",
     "text": [
      "54321\n"
     ]
    }
   ],
   "source": [
    "# 34. **Write a Python program to reverse the digits of a number using a `while` loop.**\n",
    "#     - Input: `12345`\n",
    "#     - Output: `54321`\n",
    "\n",
    "row=int(input(\"Enter Row= \"))\n",
    "rev=0\n",
    "while row!=0:\n",
    "    rem=row%10\n",
    "    rev=(rev*10)+rem\n",
    "    row//=10\n",
    "print(rev)"
   ]
  },
  {
   "cell_type": "code",
   "execution_count": 16,
   "id": "415c65c5",
   "metadata": {},
   "outputs": [
    {
     "name": "stdout",
     "output_type": "stream",
     "text": [
      "    1     2     3     4     5     6     7     8     9    10 \n",
      "    2     4     6     8    10    12    14    16    18    20 \n",
      "    3     6     9    12    15    18    21    24    27    30 \n",
      "    4     8    12    16    20    24    28    32    36    40 \n",
      "    5    10    15    20    25    30    35    40    45    50 \n",
      "    6    12    18    24    30    36    42    48    54    60 \n",
      "    7    14    21    28    35    42    49    56    63    70 \n",
      "    8    16    24    32    40    48    56    64    72    80 \n",
      "    9    18    27    36    45    54    63    72    81    90 \n",
      "   10    20    30    40    50    60    70    80    90   100 \n"
     ]
    }
   ],
   "source": [
    "# 35. **Write a Python program to generate a multiplication table for numbers from `1` to `n` using nested loops.**\n",
    "#     - Input: `n = 3`\n",
    "#     - Output:\n",
    "#       ```\n",
    "#       1 2 3\n",
    "#       2 4 6\n",
    "#       3 6 9\n",
    "\n",
    "n=int(input(\"Enter N=  \"))\n",
    "for i in range(1,n+1):\n",
    "    for j in range(1,n+1):\n",
    "        print(f\"{i*j:5}\",end=\" \")\n",
    "    print()\n"
   ]
  },
  {
   "cell_type": "code",
   "execution_count": null,
   "id": "70837940",
   "metadata": {},
   "outputs": [],
   "source": [
    "# 1. **Write a Python program to count the number of vowels in a given string.**\n",
    "#    - Input: `'hello world'`\n",
    "#    - Output: `3` (vowels are 'e', 'o', 'o')\n",
    "\n",
    "string=input(\"Enter string= \")\n",
    "for i in string:\n",
    "    if 'aeiou'"
   ]
  }
 ],
 "metadata": {
  "kernelspec": {
   "display_name": "Python 3",
   "language": "python",
   "name": "python3"
  },
  "language_info": {
   "codemirror_mode": {
    "name": "ipython",
    "version": 3
   },
   "file_extension": ".py",
   "mimetype": "text/x-python",
   "name": "python",
   "nbconvert_exporter": "python",
   "pygments_lexer": "ipython3",
   "version": "3.12.4"
  }
 },
 "nbformat": 4,
 "nbformat_minor": 5
}
