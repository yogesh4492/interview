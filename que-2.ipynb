{
 "cells": [
  {
   "cell_type": "code",
   "execution_count": 3,
   "id": "cdde4158",
   "metadata": {},
   "outputs": [
    {
     "name": "stdout",
     "output_type": "stream",
     "text": [
      "True\n"
     ]
    }
   ],
   "source": [
    "# Q 2: Write a function that accepts a string and returns True if the string is a palindrome, and False otherwise.\n",
    "\n",
    "string=input(\"Enter String= \")\n",
    "print(string==string[::-1])"
   ]
  },
  {
   "cell_type": "code",
   "execution_count": null,
   "id": "6ca31662",
   "metadata": {},
   "outputs": [
    {
     "name": "stdout",
     "output_type": "stream",
     "text": [
      "True\n"
     ]
    }
   ],
   "source": [
    "# Q 2: Write a function that accepts a string and returns True if the string is a palindrome, and False otherwise.\n",
    "def is_palindrome(string):\n",
    "    i,j=0,len(string)-1\n",
    "    while i<j:\n",
    "        if string[i] != string[j]:\n",
    "            return False\n",
    "        i+=1\n",
    "        j-=1\n",
    "    return True\n",
    "print(is_palindrome(\"madam\"))"
   ]
  },
  {
   "cell_type": "code",
   "execution_count": null,
   "id": "55438fbb",
   "metadata": {},
   "outputs": [
    {
     "name": "stdout",
     "output_type": "stream",
     "text": [
      "olleH\n"
     ]
    }
   ],
   "source": [
    "#  Q 2: Write a function that accepts a string and returns True if the string is a palindrome, and False otherwise.\n",
    "\n",
    "def is_palindrome(string):\n",
    "    length=len(string)\n",
    "    for i in range(length,0,-1):\n",
    "        print(string[i-1],end=\"\")\n",
    "    print()\n",
    "    \n",
    "is_palindrome(\"Hello\")\n"
   ]
  },
  {
   "cell_type": "code",
   "execution_count": 26,
   "id": "ba3f6632",
   "metadata": {},
   "outputs": [
    {
     "name": "stdout",
     "output_type": "stream",
     "text": [
      "olleh\n"
     ]
    }
   ],
   "source": [
    "#  Q 2: Write a function that accepts a string and returns True if the string is a palindrome, and False otherwise.\n",
    "\n",
    "string=\"hello\"\n",
    "rev=\"\"\n",
    "for i in string:\n",
    "    rev=i+rev\n",
    "print(rev)\n",
    "\n"
   ]
  },
  {
   "cell_type": "code",
   "execution_count": null,
   "id": "a375491e",
   "metadata": {},
   "outputs": [],
   "source": [
    "#  Q 2: Write a function that accepts a string and returns True if the string is a palindrome, and False otherwise.\n",
    "\n",
    "\n"
   ]
  }
 ],
 "metadata": {
  "kernelspec": {
   "display_name": "Python 3",
   "language": "python",
   "name": "python3"
  },
  "language_info": {
   "codemirror_mode": {
    "name": "ipython",
    "version": 3
   },
   "file_extension": ".py",
   "mimetype": "text/x-python",
   "name": "python",
   "nbconvert_exporter": "python",
   "pygments_lexer": "ipython3",
   "version": "3.12.4"
  }
 },
 "nbformat": 4,
 "nbformat_minor": 5
}
