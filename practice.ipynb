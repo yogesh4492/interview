{
 "cells": [
  {
   "cell_type": "code",
   "execution_count": null,
   "id": "0dc4a112",
   "metadata": {},
   "outputs": [],
   "source": [
    "from functools import reduce\n",
    "list=[1,2,34,5,6]\n",
    "ans=reduce(add,list)"
   ]
  }
 ],
 "metadata": {
  "language_info": {
   "name": "python"
  }
 },
 "nbformat": 4,
 "nbformat_minor": 5
}
