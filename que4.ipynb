{
 "cells": [
  {
   "cell_type": "code",
   "execution_count": null,
   "id": "48e52800",
   "metadata": {},
   "outputs": [
    {
     "name": "stdout",
     "output_type": "stream",
     "text": [
      "50\n"
     ]
    }
   ],
   "source": [
    "# Q 4: Write a function that accepts a list of numbers and returns the maximum value in the list\n",
    "#sort without it\n",
    "list=[1,2,3,50,5]\n",
    "for i in  range(0,len(list)):\n",
    "    for j in range(i+1,len(list)):\n",
    "        if list[i]>list[j]:\n",
    "            temp=list[i]\n",
    "            list[i]=list[j]\n",
    "            list[j]=temp\n",
    "print(list[-1])"
   ]
  },
  {
   "cell_type": "code",
   "execution_count": null,
   "id": "5c0653a2",
   "metadata": {},
   "outputs": [],
   "source": [
    "# Q 4: Write a function that accepts a list of numbers and returns the maximum value in the list\n",
    "#decending order sort\n",
    "list=[1,2,3,50,5]\n",
    "for i in  range(0,len(list)):\n",
    "    for j in range(i+1,len(list)):\n",
    "        if list[i]>list[j]:\n",
    "            temp=list[i]\n",
    "            list[i]=list[j]\n",
    "            list[j]=temp\n",
    "print(list[-1])"
   ]
  },
  {
   "cell_type": "code",
   "execution_count": null,
   "id": "2f0d940a",
   "metadata": {},
   "outputs": [
    {
     "name": "stdout",
     "output_type": "stream",
     "text": [
      "50\n"
     ]
    }
   ],
   "source": [
    "# Q 4: Write a function that accepts a list of numbers and returns the maximum value in the list\n",
    "\n",
    "# in build \n",
    "\n",
    "list=[1,2,3,50,5]\n",
    "list2=sorted(list)\n",
    "print(list2[-1])"
   ]
  },
  {
   "cell_type": "code",
   "execution_count": null,
   "id": "659f68d7",
   "metadata": {},
   "outputs": [
    {
     "name": "stdout",
     "output_type": "stream",
     "text": [
      "1\n"
     ]
    }
   ],
   "source": [
    "#min   \n",
    "\n",
    "list=[1,2,3,4,5]\n",
    "min=list[0]\n",
    "length=len(list)\n",
    "for i in range(1,length):\n",
    "    if list[i]<min:\n",
    "        min=list[i]\n",
    "print(min)"
   ]
  },
  {
   "cell_type": "code",
   "execution_count": null,
   "id": "4e847864",
   "metadata": {},
   "outputs": [],
   "source": [
    "#max  \n",
    "\n",
    "list=[1,2,3,4,5]\n",
    "min=list[0]\n",
    "length=len(list)\n",
    "for i in range(1,length):\n",
    "    if list[i]<min:\n",
    "        min=list[i]\n",
    "print(min)"
   ]
  },
  {
   "cell_type": "code",
   "execution_count": 4,
   "id": "9b46e47d",
   "metadata": {},
   "outputs": [
    {
     "name": "stdout",
     "output_type": "stream",
     "text": [
      "[1, 2, 7]\n",
      "3\n"
     ]
    }
   ],
   "source": [
    "list=[1,2,4,6,7]\n",
    "list2=[]\n",
    "count=0\n",
    "for i in list:\n",
    "    flag=1\n",
    "    for j in range(2,i//2+1):\n",
    "        if i%j==0:\n",
    "            flag=0\n",
    "    if flag:\n",
    "        count+=1\n",
    "        list2.append(i)\n",
    "print(list2)\n",
    "print(count)"
   ]
  },
  {
   "cell_type": "code",
   "execution_count": 16,
   "id": "87515004",
   "metadata": {},
   "outputs": [
    {
     "name": "stdout",
     "output_type": "stream",
     "text": [
      "start time Thu Sep  4 16:41:16 2025\n",
      "[1]\n",
      "1\n",
      "end time Thu Sep  4 16:41:16 2025\n",
      "0.0010039806\n"
     ]
    }
   ],
   "source": [
    "import time\n",
    "start_time=time.time()\n",
    "\n",
    "print(\"start time\",time.ctime(start_time))\n",
    "\n",
    "list=[1,2,4,6,7]\n",
    "list2=[]\n",
    "count=0\n",
    "for i in list:\n",
    "    flag=1\n",
    "    for j in range(1,i):\n",
    "        if i%j==0:\n",
    "            flag=0\n",
    "    if flag:\n",
    "        count+=1\n",
    "        list2.append(i)\n",
    "print(list2)\n",
    "print(count)\n",
    "\n",
    "end_time=time.time()\n",
    "print(\"end time\",time.ctime(end_time))\n",
    "\n",
    "e_time=end_time-start_time\n",
    "\n",
    "print(f\"{e_time:.10f}\")"
   ]
  },
  {
   "cell_type": "code",
   "execution_count": null,
   "id": "5748d851",
   "metadata": {},
   "outputs": [],
   "source": [
    "list=[1,2,4,-5]\n",
    "print([i  for i in list])"
   ]
  }
 ],
 "metadata": {
  "kernelspec": {
   "display_name": "Python 3",
   "language": "python",
   "name": "python3"
  },
  "language_info": {
   "codemirror_mode": {
    "name": "ipython",
    "version": 3
   },
   "file_extension": ".py",
   "mimetype": "text/x-python",
   "name": "python",
   "nbconvert_exporter": "python",
   "pygments_lexer": "ipython3",
   "version": "3.12.4"
  }
 },
 "nbformat": 4,
 "nbformat_minor": 5
}
