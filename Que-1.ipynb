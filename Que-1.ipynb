{
 "cells": [
  {
   "cell_type": "code",
   "execution_count": 3,
   "id": "36d7dffd",
   "metadata": {},
   "outputs": [
    {
     "name": "stdout",
     "output_type": "stream",
     "text": [
      "120\n"
     ]
    }
   ],
   "source": [
    "# Q 1: Accept a number from the user and find the factorial of the number using a function with a parameter and return type.\n",
    "\n",
    "def factorial(num):\n",
    "    if num==0:\n",
    "        return 1\n",
    "    return num*factorial(num-1)\n",
    "num=int(input(\"Enter Number= \"))\n",
    "print(factorial(num))\n"
   ]
  },
  {
   "cell_type": "code",
   "execution_count": 1,
   "id": "6fd25921",
   "metadata": {},
   "outputs": [
    {
     "name": "stdout",
     "output_type": "stream",
     "text": [
      "120\n"
     ]
    }
   ],
   "source": [
    "# Q 1: Accept a number from the user and find the factorial of the number using a function with a parameter and return type.\n",
    "\n",
    "def factorial(num):\n",
    "    fact=1\n",
    "    for i in range(1,num+1):\n",
    "       fact*=i\n",
    "    return fact\n",
    "num=int(input(\"Enter Number = \"))\n",
    "print(factorial(num))\n",
    "\n",
    "\n"
   ]
  },
  {
   "cell_type": "code",
   "execution_count": 3,
   "id": "ced11b88",
   "metadata": {},
   "outputs": [
    {
     "name": "stdout",
     "output_type": "stream",
     "text": [
      "Factorial of 5 is =120\n"
     ]
    }
   ],
   "source": [
    "# Q 1: Accept a number from the user and find the factorial of the number using a function with a parameter and return type.\n",
    "\n",
    "num=int(input(\"Enter Number= \"))\n",
    "fact=1\n",
    "for i in range(1,num+1):\n",
    "    fact*=i\n",
    "print(f\"Factorial of {num} is ={fact}\")"
   ]
  },
  {
   "cell_type": "code",
   "execution_count": null,
   "id": "112105a9",
   "metadata": {},
   "outputs": [],
   "source": []
  }
 ],
 "metadata": {
  "kernelspec": {
   "display_name": "Python 3",
   "language": "python",
   "name": "python3"
  },
  "language_info": {
   "codemirror_mode": {
    "name": "ipython",
    "version": 3
   },
   "file_extension": ".py",
   "mimetype": "text/x-python",
   "name": "python",
   "nbconvert_exporter": "python",
   "pygments_lexer": "ipython3",
   "version": "3.12.4"
  }
 },
 "nbformat": 4,
 "nbformat_minor": 5
}
