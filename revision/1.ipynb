{
 "cells": [
  {
   "cell_type": "code",
   "execution_count": null,
   "id": "30d8df6e",
   "metadata": {},
   "outputs": [],
   "source": []
  },
  {
   "cell_type": "code",
   "execution_count": 1,
   "id": "3086a534",
   "metadata": {},
   "outputs": [
    {
     "data": {
      "text/plain": [
       "' loop \\n\\nloop:- loop are repitation\\n\\nthere are two type of loop\\n\\n1.for loop\\n2.while loop\\n\\nfor loop:\\nsyntax:\\n for var in sequance:\\n      statement\\n\\n\\n'"
      ]
     },
     "execution_count": 1,
     "metadata": {},
     "output_type": "execute_result"
    }
   ],
   "source": [
    "\"\"\" loop \n",
    "\n",
    "loop:- loop are repitation\n",
    "\n",
    "there are two type of loop\n",
    "\n",
    "1.for loop\n",
    "2.while loop\n",
    "\n",
    "for loop:\n",
    "syntax:\n",
    " for var in sequance:\n",
    "      statement\n",
    "    \n",
    "\n",
    "\"\"\""
   ]
  },
  {
   "cell_type": "code",
   "execution_count": null,
   "id": "481e87d0",
   "metadata": {},
   "outputs": [
    {
     "data": {
      "text/plain": [
       "' \\nrange function:\\nrange function have three parameter \\n1\\nstart\\n2strop\\n3.step\\nstep is optional\\n\\nsynatx: range(start,stop,[step])\\n'"
      ]
     },
     "execution_count": 2,
     "metadata": {},
     "output_type": "execute_result"
    }
   ],
   "source": [
    "\"\"\" \n",
    "range function:\n",
    "range function have three parameter \n",
    "1\n",
    "start\n",
    "2stop\n",
    "3.step\n",
    "step is optional\n",
    "\n",
    "synatx: range(start,stop,[step])\n",
    "\"\"\""
   ]
  },
  {
   "cell_type": "code",
   "execution_count": 6,
   "id": "07369fa6",
   "metadata": {},
   "outputs": [
    {
     "name": "stdout",
     "output_type": "stream",
     "text": [
      "Programming\n",
      "-------------------\n",
      "PROGRAMMING"
     ]
    }
   ],
   "source": [
    "s1=\"Programming\"\n",
    "for i in s1:\n",
    "    print(i,end=\"\")\n",
    "print(\"\\n-------------------\")\n",
    "for j in s1:\n",
    "    print(j.upper(),end=\"\")"
   ]
  },
  {
   "cell_type": "code",
   "execution_count": 8,
   "id": "38144d72",
   "metadata": {},
   "outputs": [
    {
     "name": "stdout",
     "output_type": "stream",
     "text": [
      "['y', 'o', 'g', 'e', 's', 'h']\n"
     ]
    }
   ],
   "source": [
    "name=input(\"Enter name= \")\n",
    "# print(name.lower())\n",
    "list=[]\n",
    "for i in name:\n",
    "    list.append(i.lower())\n",
    "print(list)"
   ]
  },
  {
   "cell_type": "code",
   "execution_count": 10,
   "id": "42e4a714",
   "metadata": {},
   "outputs": [
    {
     "name": "stdout",
     "output_type": "stream",
     "text": [
      "['YASH', 'JY', 'OM']\n"
     ]
    }
   ],
   "source": [
    "list=[]\n",
    "for i in range(1,4):\n",
    "    name=input(\"Enter Name= \")\n",
    "    list.append(name.upper())\n",
    "print(list)\n"
   ]
  },
  {
   "cell_type": "code",
   "execution_count": 13,
   "id": "8038bec6",
   "metadata": {},
   "outputs": [
    {
     "name": "stdout",
     "output_type": "stream",
     "text": [
      "3\n",
      "3\n"
     ]
    }
   ],
   "source": [
    "e=0\n",
    "o=0\n",
    "for i in range(1,7):\n",
    "    num=int(input(\"Enter Number= \"))\n",
    "    if num%2==0:\n",
    "        e+=1\n",
    "    else:\n",
    "        o+=1\n",
    "\n",
    "print(e)\n",
    "print(o)"
   ]
  },
  {
   "cell_type": "code",
   "execution_count": 14,
   "id": "bd4d7d48",
   "metadata": {},
   "outputs": [
    {
     "name": "stdout",
     "output_type": "stream",
     "text": [
      "['Y', 'J', 'K']\n"
     ]
    }
   ],
   "source": [
    "list=[]\n",
    "for i in range(1,4):\n",
    "    name=input(\"Enter name= \")\n",
    "    list.append(name[0].upper())\n",
    "print(list)"
   ]
  },
  {
   "cell_type": "code",
   "execution_count": 15,
   "id": "05edb297",
   "metadata": {},
   "outputs": [
    {
     "name": "stdout",
     "output_type": "stream",
     "text": [
      "['avaj', 'nohtyp']\n"
     ]
    }
   ],
   "source": [
    "list=[]\n",
    "for i in range(1,3):\n",
    "    name=input(\"Enter NAme= \")\n",
    "    list.append(name[::-1])\n",
    "print(list)"
   ]
  },
  {
   "cell_type": "code",
   "execution_count": 17,
   "id": "41bd28e9",
   "metadata": {},
   "outputs": [
    {
     "name": "stdout",
     "output_type": "stream",
     "text": [
      "Hello\n",
      "Hello\n",
      "Hello\n"
     ]
    }
   ],
   "source": [
    "flag=True\n",
    "while flag:\n",
    "    print(\"Hello\")\n",
    "    choice=input(\"Do you want to continue press  y = \")\n",
    "    if choice !='y':\n",
    "        flag=False"
   ]
  },
  {
   "cell_type": "code",
   "execution_count": 20,
   "id": "86373055",
   "metadata": {},
   "outputs": [
    {
     "name": "stdout",
     "output_type": "stream",
     "text": [
      "[2]\n"
     ]
    }
   ],
   "source": [
    "list=[]\n",
    "flag=True\n",
    "while flag:\n",
    "    num=int(input(\"Enter Number= \"))\n",
    "    if num%2==0:\n",
    "        list.append(num)\n",
    "    else:\n",
    "        break\n",
    "    choice=input(\"For continue press y = \")\n",
    "    if choice!='y':\n",
    "        flag=False\n",
    "print(list)"
   ]
  },
  {
   "cell_type": "code",
   "execution_count": 14,
   "id": "867de968",
   "metadata": {},
   "outputs": [
    {
     "name": "stdout",
     "output_type": "stream",
     "text": [
      "['HEllo', 'My', 'NAme', 'IS', 'Yogesh']\n"
     ]
    }
   ],
   "source": [
    "string=input(\"Enter The string|= \")\n",
    "list=[]\n",
    "string2=\"\"\n",
    "for i in string:\n",
    "    if i!=\" \":\n",
    "         string2+=i \n",
    "    else:\n",
    "        list.append(string2)\n",
    "        string2=\"\"\n",
    "print(list)\n",
    "\n"
   ]
  },
  {
   "cell_type": "code",
   "execution_count": null,
   "id": "e419fedd",
   "metadata": {},
   "outputs": [],
   "source": []
  },
  {
   "cell_type": "code",
   "execution_count": null,
   "id": "ef825238",
   "metadata": {},
   "outputs": [],
   "source": []
  }
 ],
 "metadata": {
  "kernelspec": {
   "display_name": "Python 3",
   "language": "python",
   "name": "python3"
  },
  "language_info": {
   "codemirror_mode": {
    "name": "ipython",
    "version": 3
   },
   "file_extension": ".py",
   "mimetype": "text/x-python",
   "name": "python",
   "nbconvert_exporter": "python",
   "pygments_lexer": "ipython3",
   "version": "3.12.4"
  }
 },
 "nbformat": 4,
 "nbformat_minor": 5
}
